{
 "cells": [
  {
   "cell_type": "markdown",
   "metadata": {},
   "source": [
    "## 0. Import library"
   ]
  },
  {
   "cell_type": "code",
   "execution_count": 50,
   "metadata": {},
   "outputs": [],
   "source": [
    "import numpy as np\n",
    "import pandas as pd\n",
    "import matplotlib.pyplot as plt"
   ]
  },
  {
   "cell_type": "markdown",
   "metadata": {},
   "source": [
    "## 1.Import data"
   ]
  },
  {
   "cell_type": "code",
   "execution_count": 51,
   "metadata": {},
   "outputs": [
    {
     "data": {
      "text/html": [
       "<div>\n",
       "<style scoped>\n",
       "    .dataframe tbody tr th:only-of-type {\n",
       "        vertical-align: middle;\n",
       "    }\n",
       "\n",
       "    .dataframe tbody tr th {\n",
       "        vertical-align: top;\n",
       "    }\n",
       "\n",
       "    .dataframe thead th {\n",
       "        text-align: right;\n",
       "    }\n",
       "</style>\n",
       "<table border=\"1\" class=\"dataframe\">\n",
       "  <thead>\n",
       "    <tr style=\"text-align: right;\">\n",
       "      <th></th>\n",
       "      <th>ID</th>\n",
       "      <th>pclass</th>\n",
       "      <th>sex</th>\n",
       "      <th>age</th>\n",
       "      <th>sibsp</th>\n",
       "      <th>parch</th>\n",
       "      <th>fare</th>\n",
       "      <th>embarked</th>\n",
       "      <th>survived</th>\n",
       "    </tr>\n",
       "  </thead>\n",
       "  <tbody>\n",
       "    <tr>\n",
       "      <th>0</th>\n",
       "      <td>1</td>\n",
       "      <td>3</td>\n",
       "      <td>male</td>\n",
       "      <td>20.0</td>\n",
       "      <td>0</td>\n",
       "      <td>0</td>\n",
       "      <td>4.0</td>\n",
       "      <td>C</td>\n",
       "      <td>0</td>\n",
       "    </tr>\n",
       "    <tr>\n",
       "      <th>1</th>\n",
       "      <td>2</td>\n",
       "      <td>3</td>\n",
       "      <td>female</td>\n",
       "      <td>18.0</td>\n",
       "      <td>0</td>\n",
       "      <td>0</td>\n",
       "      <td>7.2</td>\n",
       "      <td>C</td>\n",
       "      <td>1</td>\n",
       "    </tr>\n",
       "    <tr>\n",
       "      <th>2</th>\n",
       "      <td>3</td>\n",
       "      <td>2</td>\n",
       "      <td>male</td>\n",
       "      <td>NaN</td>\n",
       "      <td>0</td>\n",
       "      <td>0</td>\n",
       "      <td>15.6</td>\n",
       "      <td>C</td>\n",
       "      <td>0</td>\n",
       "    </tr>\n",
       "    <tr>\n",
       "      <th>3</th>\n",
       "      <td>4</td>\n",
       "      <td>2</td>\n",
       "      <td>male</td>\n",
       "      <td>NaN</td>\n",
       "      <td>0</td>\n",
       "      <td>0</td>\n",
       "      <td>0.0</td>\n",
       "      <td>S</td>\n",
       "      <td>0</td>\n",
       "    </tr>\n",
       "    <tr>\n",
       "      <th>4</th>\n",
       "      <td>5</td>\n",
       "      <td>3</td>\n",
       "      <td>female</td>\n",
       "      <td>2.0</td>\n",
       "      <td>3</td>\n",
       "      <td>2</td>\n",
       "      <td>27.9</td>\n",
       "      <td>S</td>\n",
       "      <td>0</td>\n",
       "    </tr>\n",
       "  </tbody>\n",
       "</table>\n",
       "</div>"
      ],
      "text/plain": [
       "   ID  pclass     sex   age  sibsp  parch  fare embarked  survived\n",
       "0   1       3    male  20.0      0      0   4.0        C         0\n",
       "1   2       3  female  18.0      0      0   7.2        C         1\n",
       "2   3       2    male   NaN      0      0  15.6        C         0\n",
       "3   4       2    male   NaN      0      0   0.0        S         0\n",
       "4   5       3  female   2.0      3      2  27.9        S         0"
      ]
     },
     "execution_count": 51,
     "metadata": {},
     "output_type": "execute_result"
    }
   ],
   "source": [
    "train=pd.read_csv('titanic_traning.csv')\n",
    "#train.drop(columns='ID',inplace=True)\n",
    "train.head()"
   ]
  },
  {
   "cell_type": "code",
   "execution_count": 52,
   "metadata": {},
   "outputs": [
    {
     "data": {
      "text/plain": [
       "Index(['pclass', 'sex', 'age', 'sibsp', 'parch', 'fare', 'embarked',\n",
       "       'survived'],\n",
       "      dtype='object')"
      ]
     },
     "execution_count": 52,
     "metadata": {},
     "output_type": "execute_result"
    }
   ],
   "source": [
    "train.columns[1:]"
   ]
  },
  {
   "cell_type": "code",
   "execution_count": 53,
   "metadata": {},
   "outputs": [
    {
     "name": "stdout",
     "output_type": "stream",
     "text": [
      "Index(['pclass', 'sex', 'age', 'sibsp', 'parch', 'fare', 'embarked',\n",
      "       'survived'],\n",
      "      dtype='object')\n"
     ]
    }
   ],
   "source": [
    "#Name of features\n",
    "feat_list=train.columns[1:]\n",
    "print(feat_list)\n",
    "#Create a dict that contains all possible values for the features that have limited unique values \n",
    "factor={'sex':['male', 'female'],\n",
    "        'embarked':['C', 'S', 'Q'],\n",
    "        'pclass':np.arange(1,4),\n",
    "        'sibsp':np.arange(9),\n",
    "        'parch':np.arange(10),\n",
    "        'survived':[0,1]\n",
    "       }"
   ]
  },
  {
   "cell_type": "markdown",
   "metadata": {},
   "source": [
    "## 2. Function to find the missing values and inconsistency"
   ]
  },
  {
   "cell_type": "code",
   "execution_count": 54,
   "metadata": {},
   "outputs": [
    {
     "name": "stdout",
     "output_type": "stream",
     "text": [
      "\n",
      "The records that have missing value in the feature fare :\n",
      "      ID  pclass     sex   age  sibsp  parch  fare embarked  survived\n",
      "8      9       2    male  44.0      1      0   NaN        S         0\n",
      "27    28       1    male  41.0      1      0   NaN        S         0\n",
      "62    63       3    male  34.0      1      1   NaN        S         0\n",
      "81    82       1  female  31.0      0      0   NaN        C         1\n",
      "88    89       1  female  40.0      0      0   NaN        S         1\n",
      "89    90       3    male  25.0      0      0   NaN        C         0\n",
      "135  136       3  female   9.0      4      2   NaN        S         0\n",
      "165  166       3    male  60.5      0      0   NaN        S         0\n",
      "908  909       1  female  30.0      0      0   NaN        C         1\n",
      "9\n",
      "\n",
      "For feature sex , the cases that have inconsistent values are:\n",
      "      ID  pclass   sex   age  sibsp  parch  fare embarked  survived\n",
      "5      6       1  Male  45.0      0      0  29.7        C         1\n",
      "756  757       3  Male  27.0      0      0   7.8        S         1\n",
      "      ID  pclass     sex   age  sibsp  parch  fare embarked  survived\n",
      "160  161       3  Female  24.0      0      2  16.7        S         1\n",
      "169  170       3  Female   NaN      0      0   8.1        S         0\n",
      "4\n"
     ]
    }
   ],
   "source": [
    "## Function to find number of missing values\n",
    "def check_missing_value(feat):\n",
    "    nomv=0 #Number of missing values\n",
    "    #check if there is any missing values\n",
    "    if train[feat].isnull().any():\n",
    "        #if yes, count the number of missing value\n",
    "        mis_val=train[feat][train[feat].isnull()]\n",
    "        print('\\nThe records that have missing value in the feature',feat,':')\n",
    "        print(train[train[feat].isnull()])\n",
    "        nomv=len(mis_val)\n",
    "    return nomv\n",
    "    \n",
    "#example of function\n",
    "print(check_missing_value('fare'))\n",
    "\n",
    "## Function to find the inconsistency\n",
    "def check_inconsistency(feat):\n",
    "    noic=0 #Number of inconsistent values\n",
    "    pv=train[feat].unique()\n",
    "    #print(pv)\n",
    "    if np.isin(feat,list(factor.keys())):\n",
    "        # deal with features that have limited unique values\n",
    "        iv=pv[np.isin(pv,factor[feat])==False].copy()\n",
    "        if len(iv)!=0:\n",
    "            print('\\nFor feature',feat,', the cases that have inconsistent values are:')\n",
    "            for val in iv:\n",
    "                subset=train[feat][train[feat]==val]\n",
    "                print(train[train[feat]==val])\n",
    "                noic+=len(subset)\n",
    "    else:\n",
    "        # deal with features that may have unlimited unique values like age and fare\n",
    "        # Nan will not be counted because we already count it in the missing values checking\n",
    "        pv=pv[~np.isnan(pv)]\n",
    "        #check if all unique values is a positive number\n",
    "        for val in pv:\n",
    "            if val<0: \n",
    "                subset=train[feat][train[feat]==val]\n",
    "                noic+=len(subset)\n",
    "    return noic\n",
    "\n",
    "#example of function\n",
    "print(check_inconsistency('sex'))    "
   ]
  },
  {
   "cell_type": "markdown",
   "metadata": {},
   "source": [
    "## 2. Main program\n"
   ]
  },
  {
   "cell_type": "code",
   "execution_count": 55,
   "metadata": {},
   "outputs": [
    {
     "name": "stdout",
     "output_type": "stream",
     "text": [
      "\n",
      "For feature sex , the cases that have inconsistent values are:\n",
      "      ID  pclass   sex   age  sibsp  parch  fare embarked  survived\n",
      "5      6       1  Male  45.0      0      0  29.7        C         1\n",
      "756  757       3  Male  27.0      0      0   7.8        S         1\n",
      "      ID  pclass     sex   age  sibsp  parch  fare embarked  survived\n",
      "160  161       3  Female  24.0      0      2  16.7        S         1\n",
      "169  170       3  Female   NaN      0      0   8.1        S         0\n",
      "\n",
      "The records that have missing value in the feature age :\n",
      "      ID  pclass     sex  age  sibsp  parch   fare    embarked  survived\n",
      "2      3       2    male  NaN      0      0   15.6           C         0\n",
      "3      4       2    male  NaN      0      0    0.0           S         0\n",
      "11    12       3  female  NaN      0      0    7.7           Q         1\n",
      "13    14       3  female  NaN      2      0   23.3           Q         1\n",
      "18    19       1    male  NaN      0      0   26.0           S         0\n",
      "21    22       3    male  NaN      1      2   23.5           S         0\n",
      "37    38       3  female  NaN      0      0    7.8           Q         1\n",
      "41    42       2  female  NaN      0      0   12.4           Q         1\n",
      "43    44       3    male  NaN      0      0    7.3           S         0\n",
      "63    64       3    male  NaN      0      0    7.8           Q         0\n",
      "76    77       3    male  NaN      0      0    8.1           S         0\n",
      "79    80       3    male  NaN      1      1   15.2           C         1\n",
      "85    86       3    male  NaN      1      0   14.5           C         0\n",
      "95    96       3    male  NaN      0      0    7.6           S         0\n",
      "100  101       3    male  NaN      0      0    7.8           Q         0\n",
      "101  102       3    male  NaN      0      0    7.9           S         1\n",
      "107  108       3    male  NaN      0      0    7.2           C         0\n",
      "110  111       3  female  NaN      1      0   15.5           Q         1\n",
      "112  113       3    male  NaN      0      0    7.8           Q         1\n",
      "116  117       3    male  NaN      2      0   21.7           C         0\n",
      "118  119       3    male  NaN      8      2   69.6           S         0\n",
      "126  127       3    male  NaN      0      0    7.6           S         0\n",
      "132  133       3  female  NaN      0      2   15.2           C         1\n",
      "134  135       3  female  NaN      1      0   15.5           Q         1\n",
      "145  146       3    male  NaN      2      0   21.7           C         0\n",
      "146  147       3  female  NaN      8      2   69.6           S         0\n",
      "158  159       3    male  NaN      0      0    7.8           Q         0\n",
      "162  163       3    male  NaN      0      0    8.1           S         0\n",
      "169  170       3  Female  NaN      0      0    8.1           S         0\n",
      "179  180       3  female  NaN      0      2    7.8           Q         0\n",
      "..   ...     ...     ...  ...    ...    ...    ...         ...       ...\n",
      "767  768       3  female  NaN      3      1   25.5           S         0\n",
      "770  771       1    male  NaN      0      0   52.0           S         0\n",
      "774  775       3    male  NaN      0      0   56.5           S         1\n",
      "775  776       1    male  NaN      0      0    0.0           S         0\n",
      "782  783       1    male  NaN      0      0   26.6           S         0\n",
      "785  786       3    male  NaN      0      0    7.9           C         0\n",
      "790  791       3    male  NaN      0      0    7.3           S         0\n",
      "792  793       3    male  NaN      0      0    7.2           C         0\n",
      "796  797       1  female  NaN      1      0  133.7           S         1\n",
      "803  804       3  female  NaN      0      0    7.8           Q         0\n",
      "808  809       3    male  NaN      1      1   14.5           S         0\n",
      "810  811       3    male  NaN      0      0    7.8           Q         0\n",
      "811  812       1    male  NaN      0      0   25.9           S         0\n",
      "814  815       3    male  NaN      0      0    7.9           S         0\n",
      "824  825       3    male  NaN      0      0    8.1           S         0\n",
      "829  830       3    male  NaN      0      0    7.7  Queenstown         0\n",
      "837  838       3    male  NaN      0      0    8.5           Q         0\n",
      "838  839       3    male  NaN      0      0    7.2           C         1\n",
      "841  842       3    male  NaN      0      0    7.9           C         0\n",
      "849  850       3  female  NaN      0      0    7.9           Q         1\n",
      "857  858       3    male  NaN      0      0    7.8           Q         1\n",
      "868  869       3    male  NaN      0      0    7.7           Q         0\n",
      "870  871       1    male  NaN      0      0   30.5           S         1\n",
      "871  872       1    male  NaN      0      0   27.7           C         0\n",
      "874  875       3  female  NaN      0      0    7.8           Q         0\n",
      "877  878       3    male  NaN      0      0    7.9           S         0\n",
      "879  880       2    male  NaN      0      0   10.7           Q         0\n",
      "890  891       1  female  NaN      0      0   31.7           S         1\n",
      "892  893       3    male  NaN      1      0    6.4           C         0\n",
      "912  913       3    male  NaN      0      0    7.8           Q         0\n",
      "\n",
      "[188 rows x 9 columns]\n",
      "\n",
      "The records that have missing value in the feature fare :\n",
      "      ID  pclass     sex   age  sibsp  parch  fare embarked  survived\n",
      "8      9       2    male  44.0      1      0   NaN        S         0\n",
      "27    28       1    male  41.0      1      0   NaN        S         0\n",
      "62    63       3    male  34.0      1      1   NaN        S         0\n",
      "81    82       1  female  31.0      0      0   NaN        C         1\n",
      "88    89       1  female  40.0      0      0   NaN        S         1\n",
      "89    90       3    male  25.0      0      0   NaN        C         0\n",
      "135  136       3  female   9.0      4      2   NaN        S         0\n",
      "165  166       3    male  60.5      0      0   NaN        S         0\n",
      "908  909       1  female  30.0      0      0   NaN        C         1\n",
      "\n",
      "For feature embarked , the cases that have inconsistent values are:\n",
      "      ID  pclass     sex   age  sibsp  parch  fare    embarked  survived\n",
      "17    18       3    male  26.0      0      0   7.9  Queenstown         0\n",
      "123  124       3  female  15.0      0      0   8.0  Queenstown         1\n",
      "829  830       3    male   NaN      0      0   7.7  Queenstown         0\n"
     ]
    },
    {
     "data": {
      "text/html": [
       "<div>\n",
       "<style scoped>\n",
       "    .dataframe tbody tr th:only-of-type {\n",
       "        vertical-align: middle;\n",
       "    }\n",
       "\n",
       "    .dataframe tbody tr th {\n",
       "        vertical-align: top;\n",
       "    }\n",
       "\n",
       "    .dataframe thead th {\n",
       "        text-align: right;\n",
       "    }\n",
       "</style>\n",
       "<table border=\"1\" class=\"dataframe\">\n",
       "  <thead>\n",
       "    <tr style=\"text-align: right;\">\n",
       "      <th></th>\n",
       "      <th>Missing Values</th>\n",
       "      <th>Percentage of MV</th>\n",
       "      <th>Inconsistent Values</th>\n",
       "      <th>Percentage of IV</th>\n",
       "    </tr>\n",
       "  </thead>\n",
       "  <tbody>\n",
       "    <tr>\n",
       "      <th>pclass</th>\n",
       "      <td>0</td>\n",
       "      <td>0.00</td>\n",
       "      <td>0</td>\n",
       "      <td>0.00</td>\n",
       "    </tr>\n",
       "    <tr>\n",
       "      <th>sex</th>\n",
       "      <td>0</td>\n",
       "      <td>0.00</td>\n",
       "      <td>4</td>\n",
       "      <td>0.44</td>\n",
       "    </tr>\n",
       "    <tr>\n",
       "      <th>age</th>\n",
       "      <td>188</td>\n",
       "      <td>20.52</td>\n",
       "      <td>0</td>\n",
       "      <td>0.00</td>\n",
       "    </tr>\n",
       "    <tr>\n",
       "      <th>sibsp</th>\n",
       "      <td>0</td>\n",
       "      <td>0.00</td>\n",
       "      <td>0</td>\n",
       "      <td>0.00</td>\n",
       "    </tr>\n",
       "    <tr>\n",
       "      <th>parch</th>\n",
       "      <td>0</td>\n",
       "      <td>0.00</td>\n",
       "      <td>0</td>\n",
       "      <td>0.00</td>\n",
       "    </tr>\n",
       "    <tr>\n",
       "      <th>fare</th>\n",
       "      <td>9</td>\n",
       "      <td>0.98</td>\n",
       "      <td>0</td>\n",
       "      <td>0.00</td>\n",
       "    </tr>\n",
       "    <tr>\n",
       "      <th>embarked</th>\n",
       "      <td>0</td>\n",
       "      <td>0.00</td>\n",
       "      <td>3</td>\n",
       "      <td>0.33</td>\n",
       "    </tr>\n",
       "    <tr>\n",
       "      <th>survived</th>\n",
       "      <td>0</td>\n",
       "      <td>0.00</td>\n",
       "      <td>0</td>\n",
       "      <td>0.00</td>\n",
       "    </tr>\n",
       "  </tbody>\n",
       "</table>\n",
       "</div>"
      ],
      "text/plain": [
       "          Missing Values  Percentage of MV  Inconsistent Values  \\\n",
       "pclass                 0              0.00                    0   \n",
       "sex                    0              0.00                    4   \n",
       "age                  188             20.52                    0   \n",
       "sibsp                  0              0.00                    0   \n",
       "parch                  0              0.00                    0   \n",
       "fare                   9              0.98                    0   \n",
       "embarked               0              0.00                    3   \n",
       "survived               0              0.00                    0   \n",
       "\n",
       "          Percentage of IV  \n",
       "pclass                0.00  \n",
       "sex                   0.44  \n",
       "age                   0.00  \n",
       "sibsp                 0.00  \n",
       "parch                 0.00  \n",
       "fare                  0.00  \n",
       "embarked              0.33  \n",
       "survived              0.00  "
      ]
     },
     "execution_count": 55,
     "metadata": {},
     "output_type": "execute_result"
    }
   ],
   "source": [
    "N=len(train.pclass)\n",
    "problem_table=pd.DataFrame(index=feat_list)\n",
    "mv=[]\n",
    "iv=[]\n",
    "for feat in feat_list:\n",
    "    mv.append(check_missing_value(feat))\n",
    "    iv.append(check_inconsistency(feat))\n",
    "problem_table['Missing Values']=mv\n",
    "problem_table['Percentage of MV']=[round(100*x/N,2) for x in mv ]\n",
    "problem_table['Inconsistent Values']=iv\n",
    "problem_table['Percentage of IV']=[round(100*x/N,2) for x in iv ]\n",
    "problem_table"
   ]
  },
  {
   "cell_type": "markdown",
   "metadata": {},
   "source": [
    "### 2.1. Handle the missing data"
   ]
  },
  {
   "cell_type": "code",
   "execution_count": 56,
   "metadata": {},
   "outputs": [
    {
     "name": "stderr",
     "output_type": "stream",
     "text": [
      "C:\\Users\\Duong Hung\\Anaconda3\\lib\\site-packages\\ipykernel_launcher.py:4: SettingWithCopyWarning: \n",
      "A value is trying to be set on a copy of a slice from a DataFrame\n",
      "\n",
      "See the caveats in the documentation: http://pandas.pydata.org/pandas-docs/stable/indexing.html#indexing-view-versus-copy\n",
      "  after removing the cwd from sys.path.\n"
     ]
    }
   ],
   "source": [
    "def fillna_by_mean(feat):\n",
    "    #Find the mean of the feature\n",
    "    mean=np.mean(train[feat][-train[feat].isnull()])\n",
    "    train[feat][train[feat].isnull()]=round(mean,2)\n",
    "fillna_by_mean('age')\n",
    "fillna_by_mean('fare')"
   ]
  },
  {
   "cell_type": "markdown",
   "metadata": {},
   "source": [
    "### 2.2. Handle the inconsistent data"
   ]
  },
  {
   "cell_type": "code",
   "execution_count": 57,
   "metadata": {},
   "outputs": [
    {
     "name": "stderr",
     "output_type": "stream",
     "text": [
      "C:\\Users\\Duong Hung\\Anaconda3\\lib\\site-packages\\ipykernel_launcher.py:2: SettingWithCopyWarning: \n",
      "A value is trying to be set on a copy of a slice from a DataFrame\n",
      "\n",
      "See the caveats in the documentation: http://pandas.pydata.org/pandas-docs/stable/indexing.html#indexing-view-versus-copy\n",
      "  \n",
      "C:\\Users\\Duong Hung\\Anaconda3\\lib\\site-packages\\ipykernel_launcher.py:3: SettingWithCopyWarning: \n",
      "A value is trying to be set on a copy of a slice from a DataFrame\n",
      "\n",
      "See the caveats in the documentation: http://pandas.pydata.org/pandas-docs/stable/indexing.html#indexing-view-versus-copy\n",
      "  This is separate from the ipykernel package so we can avoid doing imports until\n",
      "C:\\Users\\Duong Hung\\Anaconda3\\lib\\site-packages\\ipykernel_launcher.py:5: SettingWithCopyWarning: \n",
      "A value is trying to be set on a copy of a slice from a DataFrame\n",
      "\n",
      "See the caveats in the documentation: http://pandas.pydata.org/pandas-docs/stable/indexing.html#indexing-view-versus-copy\n",
      "  \"\"\"\n"
     ]
    }
   ],
   "source": [
    "# For sex feature\n",
    "train['sex'][train['sex']=='Male']='male'\n",
    "train['sex'][train['sex']=='Female']='female'\n",
    "# For embarked feature\n",
    "train['embarked'][train['embarked']=='Queenstown']='Q'\n"
   ]
  },
  {
   "cell_type": "markdown",
   "metadata": {},
   "source": [
    "## 3. Store the cleaned data into a file"
   ]
  },
  {
   "cell_type": "code",
   "execution_count": 60,
   "metadata": {},
   "outputs": [],
   "source": [
    "train.to_csv('cleaned_titanic_traning.csv',index=False)"
   ]
  },
  {
   "cell_type": "code",
   "execution_count": 59,
   "metadata": {},
   "outputs": [],
   "source": [
    "#Check the cleaned data to make sure all problems are solved ( No printing output means good)\n",
    "for feat in feat_list:\n",
    "    mv.append(check_missing_value(feat))\n",
    "    iv.append(check_inconsistency(feat))\n"
   ]
  },
  {
   "cell_type": "code",
   "execution_count": null,
   "metadata": {},
   "outputs": [],
   "source": []
  }
 ],
 "metadata": {
  "kernelspec": {
   "display_name": "Python 3",
   "language": "python",
   "name": "python3"
  },
  "language_info": {
   "codemirror_mode": {
    "name": "ipython",
    "version": 3
   },
   "file_extension": ".py",
   "mimetype": "text/x-python",
   "name": "python",
   "nbconvert_exporter": "python",
   "pygments_lexer": "ipython3",
   "version": "3.7.1"
  }
 },
 "nbformat": 4,
 "nbformat_minor": 2
}
