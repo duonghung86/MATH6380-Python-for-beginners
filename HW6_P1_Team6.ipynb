{
 "cells": [
  {
   "cell_type": "code",
   "execution_count": 38,
   "metadata": {},
   "outputs": [],
   "source": [
    "#Import libraries\n",
    "import pandas as pd\n",
    "import numpy as np\n",
    "from openpyxl import load_workbook"
   ]
  },
  {
   "cell_type": "code",
   "execution_count": 39,
   "metadata": {},
   "outputs": [
    {
     "name": "stdout",
     "output_type": "stream",
     "text": [
      "Train set's head: \n",
      "    ID  pclass  gender   age  sibsp  parch  fare embarked  survived\n",
      "0   1       3    male  20.0      0      0   4.0        C         0\n",
      "1   2       3  female  18.0      0      0   7.2        C         1\n",
      "2   3       2    male   NaN      0      0  15.6        C         0\n",
      "3   4       2    male   NaN      0      0   0.0        S         0\n",
      "4   5       3  female   2.0      3      2  27.9        S         0\n",
      "Test set's head: \n",
      "     ID  pclass  gender   age  sibsp  parch   fare embarked\n",
      "0  917       1  female  29.0      0      0  211.3        S\n",
      "1  918       1  female  25.0      1      2  151.6        S\n",
      "2  919       1  female  63.0      1      0   78.0        S\n",
      "3  920       1    male  39.0      0      0    0.0        S\n",
      "4  921       1  female  53.0      2      0   51.5        S\n"
     ]
    }
   ],
   "source": [
    "#Import data sets\n",
    "#fil_nam=os.listdir(\"data\") # name of all files in the folder data in the current working directory\n",
    "tra_set = pd.read_excel(r'titanic_traning.xlsx')\n",
    "tes_set = pd.read_excel(r'titanic_test.xlsx')\n",
    "\n",
    "#Show the head of data\n",
    "print(\"Train set's head: \\n\",tra_set.head())\n",
    "print(\"Test set's head: \\n\",tes_set.head())"
   ]
  },
  {
   "cell_type": "markdown",
   "metadata": {},
   "source": [
    "### Algorithm OneR function"
   ]
  },
  {
   "cell_type": "code",
   "execution_count": 40,
   "metadata": {},
   "outputs": [],
   "source": [
    "def oneR(fea_nam):\n",
    "    # Use the loop to apply algorithm on each type of features\n",
    "    vc=pd.Series([0,0])\n",
    "    pre_set=tes_set['survived'].copy() # A dataframe vector contains prediction values | Use copy() to avoid warning\n",
    "    for typ in tra_set[fea_nam].unique():\n",
    "        sss=tra_set['survived'][tra_set[fea_nam]==typ] # subset of survived status of this type\n",
    "        vc=sss.value_counts() # Count the survived status \n",
    "        maj=np.argmax(vc) # find the majority survived status\n",
    "        #Assign the majority status onto this type of test set\n",
    "        pre_set[tes_set[fea_nam]==typ]=maj\n",
    "    return pre_set # Return a prediction array \n"
   ]
  },
  {
   "cell_type": "markdown",
   "metadata": {},
   "source": [
    "### Predict every passenger's survived status"
   ]
  },
  {
   "cell_type": "code",
   "execution_count": 41,
   "metadata": {},
   "outputs": [
    {
     "name": "stderr",
     "output_type": "stream",
     "text": [
      "C:\\Users\\Duong Hung\\Anaconda3\\lib\\site-packages\\numpy\\core\\fromnumeric.py:56: FutureWarning: \n",
      "The current behaviour of 'Series.argmax' is deprecated, use 'idxmax'\n",
      "instead.\n",
      "The behavior of 'argmax' will be corrected to return the positional\n",
      "maximum in the future. For now, use 'series.values.argmax' or\n",
      "'np.argmax(np.array(values))' to get the position of the maximum\n",
      "row.\n",
      "  return getattr(obj, method)(*args, **kwds)\n"
     ]
    }
   ],
   "source": [
    "pre_fn=r'titanic_test_predictions.xlsx'\n",
    "tes_set['survived']=np.nan\n",
    "feats=tes_set.columns[[2,1,4,5,7]].copy() # set of evaluated features\n",
    "# Import the true values\n",
    "truec=pd.read_excel(pre_fn,usecols=[1])\n",
    "truec=truec['Ground truth']\n",
    "\n",
    "#Open the prediction file\n",
    "book = load_workbook(pre_fn) # Save existing data into book\n",
    "writer = pd.ExcelWriter(pre_fn, engine='openpyxl') \n",
    "writer.book = book\n",
    "writer.sheets = dict((ws.title, ws) for ws in book.worksheets)\n",
    "\n",
    "#Predict base on difference feature, write the prediction on file and then calculate the accuracy\n",
    "i=0\n",
    "acc=np.zeros(5)\n",
    "for feat in feats:\n",
    "    #Predict base on difference feature\n",
    "    predi=oneR(feat)\n",
    "    #Check the accuracy\n",
    "    cor_ans=sum(predi==truec) # Compare 2 array and count the corrections\n",
    "    acc[i]=round(cor_ans/len(truec),4) # calculate the accuracy\n",
    "    i+=1\n",
    "    #Adjust worksheet name\n",
    "    if feat=='gender':\n",
    "        ws_nam='Gender_Based_Prediction'\n",
    "    else:\n",
    "        ws_nam=feat+'_Based_Prediction'\n",
    "    #Write the prediction with no header and index\n",
    "    predi.to_excel(writer, sheet_name=ws_nam,index=False,header=False,startcol=2,startrow=1)\n",
    "acc=pd.DataFrame(acc)\n",
    "#Write the accuracies to the file\n",
    "acc.to_excel(writer,sheet_name='Prediction_Success_Rate',index=False,header=False,startcol=1,startrow=1)\n",
    "writer.save()\n"
   ]
  },
  {
   "cell_type": "code",
   "execution_count": null,
   "metadata": {},
   "outputs": [],
   "source": []
  },
  {
   "cell_type": "code",
   "execution_count": null,
   "metadata": {},
   "outputs": [],
   "source": []
  }
 ],
 "metadata": {
  "kernelspec": {
   "display_name": "Python 3",
   "language": "python",
   "name": "python3"
  },
  "language_info": {
   "codemirror_mode": {
    "name": "ipython",
    "version": 3
   },
   "file_extension": ".py",
   "mimetype": "text/x-python",
   "name": "python",
   "nbconvert_exporter": "python",
   "pygments_lexer": "ipython3",
   "version": "3.7.1"
  }
 },
 "nbformat": 4,
 "nbformat_minor": 2
}
