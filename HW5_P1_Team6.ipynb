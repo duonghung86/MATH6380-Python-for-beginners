{
 "cells": [
  {
   "cell_type": "code",
   "execution_count": 1,
   "metadata": {
    "colab": {},
    "colab_type": "code",
    "id": "7jYi1zEFquVE"
   },
   "outputs": [],
   "source": [
    "import numpy as np"
   ]
  },
  {
   "cell_type": "markdown",
   "metadata": {
    "colab_type": "text",
    "id": "yG_s8t-Yqu-7"
   },
   "source": [
    "#### A function to calculate 3 statistical information of an array"
   ]
  },
  {
   "cell_type": "code",
   "execution_count": 2,
   "metadata": {
    "colab": {},
    "colab_type": "code",
    "id": "Lo7ZK60HpYfI"
   },
   "outputs": [],
   "source": [
    "def stat_inf(dat):\n",
    "    mea=round(np.mean(dat),2)\n",
    "    sd=round(np.std(dat),2)\n",
    "    med=round(np.median(dat),2)\n",
    "    return [[mea,sd,med]]\n",
    "\n",
    "#Import data from file\n",
    "fname='insurance.txt'\n",
    "feats=('age','sex','bmi','children','smoker','region','expenses')\n",
    "#Define type for each features\n",
    "typ_f=('i2','U7','f2','i2','U3','U9','f4')\n",
    "data=np.loadtxt(fname,dtype={'names': feats,'formats': typ_f},skiprows=1)\n",
    "\n"
   ]
  },
  {
   "cell_type": "markdown",
   "metadata": {
    "colab_type": "text",
    "id": "hwut-tdlrmrD"
   },
   "source": [
    "### Import and analyze the data"
   ]
  },
  {
   "cell_type": "code",
   "execution_count": null,
   "metadata": {
    "colab": {
     "base_uri": "https://localhost:8080/",
     "height": 547
    },
    "colab_type": "code",
    "id": "Ubc0ez882EGi",
    "outputId": "3258e947-a03a-49ff-b4e7-f585e896675b"
   },
   "outputs": [],
   "source": []
  },
  {
   "cell_type": "code",
   "execution_count": 3,
   "metadata": {
    "colab": {
     "base_uri": "https://localhost:8080/",
     "height": 306
    },
    "colab_type": "code",
    "id": "uO482a4drn7U",
    "outputId": "fe016845-5e30-4d57-bfdf-5daadb366306"
   },
   "outputs": [
    {
     "name": "stdout",
     "output_type": "stream",
     "text": [
      "Age                           [39.21 14.04 39.  ]\n",
      "BMI                           [30.6875     6.1015625 30.40625  ]\n",
      "BMI - female                  [30.375      6.0390625 30.09375  ]\n",
      "BMI - male                    [30.953125  6.140625 30.703125]\n",
      "BMI - smoking - no            [30.65625    6.0390625 30.34375  ]\n",
      "BMI - smoking - yes           [30.71875     6.30859375 30.453125  ]\n",
      "BMI - region - northeast      [29.1875    5.921875 28.90625 ]\n",
      "BMI - region - northwest      [29.203125    5.12890625 28.90625   ]\n",
      "BMI - region - southeast      [33.375       6.48046875 33.3125    ]\n",
      "BMI - region - southwest      [30.59375    5.6796875 30.296875 ]\n",
      "BMI - #children > 2           [30.6875      5.76171875 30.34375   ]\n",
      "BMI - #children = 0           [[30.55, 6.04, 30.3]]\n",
      "BMI - #children = 1           [[30.62, 6.09, 30.0]]\n",
      "BMI - #children = 2           [[30.98, 6.5, 31.66]]\n",
      "BMI - #children = 3           [[30.69, 5.77, 30.5]]\n",
      "BMI - #children = 4           [[31.4, 4.53, 29.6]]\n",
      "BMI - #children = 5           [[29.6, 6.95, 28.55]]\n"
     ]
    }
   ],
   "source": [
    "# Prepare for output\n",
    "ofname='HW5_results.txt'\n",
    "results=np.empty((0,3))\n",
    "res=dict()\n",
    "\n",
    "#1. Mean, sd and median of age\n",
    "results=np.append(results,stat_inf(data['age']),axis=0)\n",
    "res['Age']=results[0]\n",
    "#2. Mean, sd and median of bmi\n",
    "results=np.append(results,stat_inf(data['bmi']),axis=0)\n",
    "res['BMI']=results[1]\n",
    "#3. Mean, sd and median of bmi by group of sex\n",
    "att=np.unique(data['sex']) # find unique value in sex column\n",
    "i=2\n",
    "for val in att:\n",
    "    bmi_g=data['bmi'][data['sex']==val]\n",
    "    results=np.append(results,stat_inf(bmi_g),axis=0)\n",
    "    rownam='BMI - '+val \n",
    "    res[rownam]=results[i]\n",
    "    i+=1\n",
    "#4. Mean, sd and median of bmi for smoker and non smoker\n",
    "att=np.unique(data['smoker'])\n",
    "for val in att:\n",
    "    bmi_g=data['bmi'][data['smoker']==val]\n",
    "    results=np.append(results,stat_inf(bmi_g),axis=0)\n",
    "    rownam='BMI - smoking - '+val \n",
    "    res[rownam]=results[i]\n",
    "    i+=1\n",
    "\n",
    "#5.Mean, sd and median of bmi grouped by region\n",
    "att=np.unique(data['region'])\n",
    "for val in att:\n",
    "    bmi_g=data['bmi'][data['region']==val]\n",
    "    results=np.append(results,stat_inf(bmi_g),axis=0)\n",
    "    rownam='BMI - region - '+val\n",
    "    res[rownam]=results[i]\n",
    "    i+=1\n",
    "    \n",
    "#6 Mean, sd and median of bmi of those who have more than 2 children\n",
    "bmi_g=data['bmi'][data['children']>2]\n",
    "results=np.append(results,stat_inf(bmi_g),axis=0)\n",
    "rownam='BMI - #children > 2'\n",
    "res[rownam]=results[i]\n",
    "# Extra. Mean, sd and median of bmi grouped by number of children\n",
    "att=np.unique(data['children'])\n",
    "for val in att:\n",
    "    bmi_g=data['bmi'][data['children']==val]\n",
    "    rownam='BMI - #children = '+str(val)\n",
    "    res[rownam]=stat_inf(bmi_g)\n",
    "    \n",
    "# Write results to a file\n",
    "np.savetxt(ofname,results,fmt='%.4f')\n",
    "# Print the result with names\n",
    "for key, value in res.items():\n",
    "    print(f'{key:30}{value}')\n"
   ]
  },
  {
   "cell_type": "markdown",
   "metadata": {
    "colab_type": "text",
    "id": "Fr1aR7U2q68O"
   },
   "source": [
    "### How the following factors affect BMI\n",
    "1. Smoking habit\n",
    "\n",
    "    It seem that people that does not smoke has slightly lower BMI than the ones who smokes.\n",
    "but the different is no significant because the sd is around 6 and the abs difference of means of\n",
    "2 group is around 0.06'''\n",
    "2. Region \n",
    "    \n",
    "    People live in north seems to have lower BMI than people live in the south. \n",
    "Northwest people has the highest mean of BMI'''\n",
    "\n",
    "3. Children:\n",
    "    \n",
    "    As number of children increase, the BMI index increase. and it reachs the peak at 4 kids. \n",
    "After that, BMI decrease to the lowest.'''"
   ]
  },
  {
   "cell_type": "markdown",
   "metadata": {
    "colab_type": "text",
    "id": "BFi0YZ6rrMxN"
   },
   "source": [
    "### What are the primary reasons for the top 20% of the expenses? \n",
    "In particular, sort the data by expense, and compute the mean,\n",
    " and standard deviation of BMI and the mode of smoker and region. \n",
    " How do these values differ from the rest 80% of the population? "
   ]
  },
  {
   "cell_type": "code",
   "execution_count": 4,
   "metadata": {
    "colab": {
     "base_uri": "https://localhost:8080/",
     "height": 391
    },
    "colab_type": "code",
    "id": "RirwHiSdq6vl",
    "outputId": "408dabc6-271f-4f4f-dd77-2837ad85f3a3"
   },
   "outputs": [
    {
     "name": "stdout",
     "output_type": "stream",
     "text": [
      "\n",
      "For 20% of the expenses, \n",
      "BMI factor has Mean = 32.22 SD = 5.72  and median = 32.06\n",
      "The frequency of smoker is\n",
      "['no' 'yes']\n",
      "[ 60 208]\n",
      "- The primary smoker status is yes\n",
      "The frequency of region is\n",
      "['northeast' 'northwest' 'southeast' 'southwest']\n",
      "[67 59 88 54]\n",
      "- The primary region status is southeast\n",
      "\n",
      "For the rest of population, \n",
      "BMI factor has Mean = 30.28 SD = 6.125  and median = 29.9\n",
      "The frequency of smoker is\n",
      "['no' 'yes']\n",
      "[1004   66]\n",
      "- The primary smoker status is no\n",
      "The frequency of region is\n",
      "['northeast' 'northwest' 'southeast' 'southwest']\n",
      "[257 266 276 271]\n",
      "- The primary region status is southeast\n"
     ]
    }
   ],
   "source": [
    "ex_data=np.sort(data, order='expenses') # sort by expensese\n",
    "div_ind=int(np.floor(data.shape[0]*0.8)) # index to split the data 80/20\n",
    "dat_be, dat_te=np.split(ex_data,[div_ind]) # split data into 2 group\n",
    "\n",
    "print('\\nFor 20% of the expenses, ')\n",
    "print('BMI factor has Mean =',np.mean(dat_te['bmi']), 'SD =',np.std(dat_te['bmi']), \n",
    "          ' and median =',np.median(dat_te['bmi']) )\n",
    "ele,cou=np.unique(dat_te['smoker'],return_counts=True)\n",
    "print('The frequency of smoker is')\n",
    "print(ele)\n",
    "print(cou)\n",
    "print('- The primary smoker status is',ele[np.argmax(cou)])\n",
    "ele,cou=np.unique(dat_te['region'],return_counts=True)\n",
    "print('The frequency of region is')\n",
    "print(ele)\n",
    "print(cou)\n",
    "print('- The primary region status is',ele[np.argmax(cou)])\n",
    "\n",
    "print('\\nFor the rest of population, ')\n",
    "print('BMI factor has Mean =',np.mean(dat_be['bmi']), 'SD =',np.std(dat_be['bmi']), \n",
    "          ' and median =',np.median(dat_be['bmi']) )\n",
    "ele,cou=np.unique(dat_be['smoker'],return_counts=True)\n",
    "print('The frequency of smoker is')\n",
    "print(ele)\n",
    "print(cou)\n",
    "print('- The primary smoker status is',ele[np.argmax(cou)])\n",
    "ele,cou=np.unique(dat_be['region'],return_counts=True)\n",
    "print('The frequency of region is')\n",
    "print(ele)\n",
    "print(cou)\n",
    "print('- The primary region status is',ele[np.argmax(cou)])\n"
   ]
  }
 ],
 "metadata": {
  "colab": {
   "name": "HW5_P1_Team6.Thanh.ipynb",
   "provenance": [],
   "toc_visible": true
  },
  "kernelspec": {
   "display_name": "Python 3",
   "language": "python",
   "name": "python3"
  },
  "language_info": {
   "codemirror_mode": {
    "name": "ipython",
    "version": 3
   },
   "file_extension": ".py",
   "mimetype": "text/x-python",
   "name": "python",
   "nbconvert_exporter": "python",
   "pygments_lexer": "ipython3",
   "version": "3.7.1"
  }
 },
 "nbformat": 4,
 "nbformat_minor": 1
}
